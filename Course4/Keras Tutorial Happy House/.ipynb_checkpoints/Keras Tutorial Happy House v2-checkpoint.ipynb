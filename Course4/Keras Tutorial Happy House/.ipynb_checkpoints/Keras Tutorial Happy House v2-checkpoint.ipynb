{
 "cells": [
  {
   "cell_type": "markdown",
   "metadata": {},
   "source": [
    "# Keras tutorial - the Happy House\n",
    "\n",
    "Welcome to the first assignment of week 2. In this assignment, you will:\n",
    "1. Learn to use Keras, a high-level neural networks API (programming framework), written in Python and capable of running on top of several lower-level frameworks including TensorFlow and CNTK. \n",
    "2. See how you can in a couple of hours build a deep learning algorithm.\n",
    "\n",
    "Why are we using Keras? Keras was developed to enable deep learning engineers to build and experiment with different models very quickly. Just as TensorFlow is a higher-level framework than Python, Keras is an even higher-level framework and provides additional abstractions. Being able to go from idea to result with the least possible delay is key to finding good models. However, Keras is more restrictive than the lower-level frameworks, so there are some very complex models that you can implement in TensorFlow but not (without more difficulty) in Keras. That being said, Keras will work fine for many common models. \n",
    "\n",
    "In this exercise, you'll work on the \"Happy House\" problem, which we'll explain below. Let's load the required packages and solve the problem of the Happy House!"
   ]
  },
  {
   "cell_type": "code",
   "execution_count": 1,
   "metadata": {},
   "outputs": [
    {
     "name": "stderr",
     "output_type": "stream",
     "text": [
      "Using TensorFlow backend.\n"
     ]
    }
   ],
   "source": [
    "import numpy as np\n",
    "from keras import layers\n",
    "from keras.layers import Input, Dense, Activation, ZeroPadding2D, BatchNormalization, Flatten, Conv2D\n",
    "from keras.layers import AveragePooling2D, MaxPooling2D, Dropout, GlobalMaxPooling2D, GlobalAveragePooling2D\n",
    "from keras.models import Model\n",
    "from keras.preprocessing import image\n",
    "from keras.utils import layer_utils\n",
    "from keras.utils.data_utils import get_file\n",
    "from keras.applications.imagenet_utils import preprocess_input\n",
    "import pydot\n",
    "from IPython.display import SVG\n",
    "from keras.utils.vis_utils import model_to_dot\n",
    "from keras.utils import plot_model\n",
    "from kt_utils import *\n",
    "\n",
    "import keras.backend as K\n",
    "K.set_image_data_format('channels_last')\n",
    "import matplotlib.pyplot as plt\n",
    "from matplotlib.pyplot import imshow\n",
    "\n",
    "%matplotlib inline"
   ]
  },
  {
   "cell_type": "markdown",
   "metadata": {},
   "source": [
    "**Note**: As you can see, we've imported a lot of functions from Keras. You can use them easily just by calling them directly in the notebook. Ex: `X = Input(...)` or `X = ZeroPadding2D(...)`."
   ]
  },
  {
   "cell_type": "markdown",
   "metadata": {},
   "source": [
    "## 1 - The Happy House \n",
    "\n",
    "For your next vacation, you decided to spend a week with five of your friends from school. It is a very convenient house with many things to do nearby. But the most important benefit is that everybody has commited to be happy when they are in the house. So anyone wanting to enter the house must prove their current state of happiness.\n",
    "\n",
    "<img src=\"images/happy-house.jpg\" style=\"width:350px;height:270px;\">\n",
    "<caption><center> <u> <font color='purple'> **Figure 1** </u><font color='purple'>  : **the Happy House**</center></caption>\n",
    "\n",
    "\n",
    "As a deep learning expert, to make sure the \"Happy\" rule is strictly applied, you are going to build an algorithm which that uses pictures from the front door camera to check if the person is happy or not. The door should open only if the person is happy. \n",
    "\n",
    "You have gathered pictures of your friends and yourself, taken by the front-door camera. The dataset is labbeled. \n",
    "\n",
    "<img src=\"images/house-members.png\" style=\"width:550px;height:250px;\">\n",
    "\n",
    "Run the following code to normalize the dataset and learn about its shapes."
   ]
  },
  {
   "cell_type": "code",
   "execution_count": 3,
   "metadata": {},
   "outputs": [
    {
     "name": "stdout",
     "output_type": "stream",
     "text": [
      "number of training examples = 600\n",
      "number of test examples = 150\n",
      "X_train shape: (600, 64, 64, 3)\n",
      "Y_train shape: (600, 1)\n",
      "X_test shape: (150, 64, 64, 3)\n",
      "Y_test shape: (150, 1)\n"
     ]
    }
   ],
   "source": [
    "X_train_orig, Y_train_orig, X_test_orig, Y_test_orig, classes = load_dataset()\n",
    "\n",
    "# Normalize image vectors\n",
    "X_train = X_train_orig/255.\n",
    "X_test = X_test_orig/255.\n",
    "\n",
    "# Reshape\n",
    "Y_train = Y_train_orig.T\n",
    "Y_test = Y_test_orig.T\n",
    "\n",
    "print (\"number of training examples = \" + str(X_train.shape[0]))\n",
    "print (\"number of test examples = \" + str(X_test.shape[0]))\n",
    "print (\"X_train shape: \" + str(X_train.shape))\n",
    "print (\"Y_train shape: \" + str(Y_train.shape))\n",
    "print (\"X_test shape: \" + str(X_test.shape))\n",
    "print (\"Y_test shape: \" + str(Y_test.shape))"
   ]
  },
  {
   "cell_type": "markdown",
   "metadata": {},
   "source": [
    "**Details of the \"Happy\" dataset**:\n",
    "- Images are of shape (64,64,3)\n",
    "- Training: 600 pictures\n",
    "- Test: 150 pictures\n",
    "\n",
    "It is now time to solve the \"Happy\" Challenge."
   ]
  },
  {
   "cell_type": "markdown",
   "metadata": {},
   "source": [
    "## 2 - Building a model in Keras\n",
    "\n",
    "Keras is very good for rapid prototyping. In just a short time you will be able to build a model that achieves outstanding results.\n",
    "\n",
    "Here is an example of a model in Keras:\n",
    "\n",
    "```python\n",
    "def model(input_shape):\n",
    "    # Define the input placeholder as a tensor with shape input_shape. Think of this as your input image!\n",
    "    X_input = Input(input_shape)\n",
    "\n",
    "    # Zero-Padding: pads the border of X_input with zeroes\n",
    "    X = ZeroPadding2D((3, 3))(X_input)\n",
    "\n",
    "    # CONV -> BN -> RELU Block applied to X\n",
    "    X = Conv2D(32, (7, 7), strides = (1, 1), name = 'conv0')(X)\n",
    "    X = BatchNormalization(axis = 3, name = 'bn0')(X)\n",
    "    X = Activation('relu')(X)\n",
    "\n",
    "    # MAXPOOL\n",
    "    X = MaxPooling2D((2, 2), name='max_pool')(X)\n",
    "\n",
    "    # FLATTEN X (means convert it to a vector) + FULLYCONNECTED\n",
    "    X = Flatten()(X)\n",
    "    X = Dense(1, activation='sigmoid', name='fc')(X)\n",
    "\n",
    "    # Create model. This creates your Keras model instance, you'll use this instance to train/test the model.\n",
    "    model = Model(inputs = X_input, outputs = X, name='HappyModel')\n",
    "    \n",
    "    return model\n",
    "```\n",
    "\n",
    "Note that Keras uses a different convention with variable names than we've previously used with numpy and TensorFlow. In particular, rather than creating and assigning a new variable on each step of forward propagation such as `X`, `Z1`, `A1`, `Z2`, `A2`, etc. for the computations for the different layers, in Keras code each line above just reassigns `X` to a new value using `X = ...`. In other words, during each step of forward propagation, we are just writing the latest value in the commputation into the same variable `X`. The only exception was `X_input`, which we kept separate and did not overwrite, since we needed it at the end to create the Keras model instance (`model = Model(inputs = X_input, ...)` above). \n",
    "\n",
    "**Exercise**: Implement a `HappyModel()`. This assignment is more open-ended than most. We suggest that you start by implementing a model using the architecture we suggest, and run through the rest of this assignment using that as your initial model. But after that, come back and take initiative to try out other model architectures. For example, you might take inspiration from the model above, but then vary the network architecture and hyperparameters however you wish. You can also use other functions such as `AveragePooling2D()`, `GlobalMaxPooling2D()`, `Dropout()`. \n",
    "\n",
    "**Note**: You have to be careful with your data's shapes. Use what you've learned in the videos to make sure your convolutional, pooling and fully-connected layers are adapted to the volumes you're applying it to."
   ]
  },
  {
   "cell_type": "code",
   "execution_count": 4,
   "metadata": {},
   "outputs": [],
   "source": [
    "# GRADED FUNCTION: HappyModel\n",
    "\n",
    "def HappyModel(input_shape):\n",
    "    \"\"\"\n",
    "    Implementation of the HappyModel.\n",
    "    \n",
    "    Arguments:\n",
    "    input_shape -- shape of the images of the dataset\n",
    "\n",
    "    Returns:\n",
    "    model -- a Model() instance in Keras\n",
    "    \"\"\"\n",
    "    \n",
    "    ### START CODE HERE ###\n",
    "    # Feel free to use the suggested outline in the text above to get started, and run through the whole\n",
    "    # exercise (including the later portions of this notebook) once. The come back also try out other\n",
    "    # network architectures as well. \n",
    "    # Define the input placeholder as a tensor with shape input_shape. Think of this as your input image!\n",
    "    X_input = Input(input_shape)\n",
    "\n",
    "    # Zero-Padding: pads the border of X_input with zeroes\n",
    "    X = ZeroPadding2D((3, 3))(X_input)\n",
    "\n",
    "    # CONV -> BN -> RELU Block applied to X\n",
    "    X = Conv2D(32, (7, 7), strides = (1, 1), name = 'conv0')(X)\n",
    "    X = BatchNormalization(axis = 3, name = 'bn0')(X)\n",
    "    X = Activation('relu')(X)\n",
    "\n",
    "    # MAXPOOL\n",
    "    X = MaxPooling2D((2, 2), name='max_pool')(X)\n",
    "\n",
    "    # FLATTEN X (means convert it to a vector) + FULLYCONNECTED\n",
    "    X = Flatten()(X)\n",
    "    X = Dense(1, activation='sigmoid', name='fc')(X)\n",
    "\n",
    "    # Create model. This creates your Keras model instance, you'll use this instance to train/test the model.\n",
    "    model = Model(inputs = X_input, outputs = X, name='HappyModel')\n",
    "    \n",
    "    \n",
    "    ### END CODE HERE ###\n",
    "    \n",
    "    return model"
   ]
  },
  {
   "cell_type": "markdown",
   "metadata": {},
   "source": [
    "You have now built a function to describe your model. To train and test this model, there are four steps in Keras:\n",
    "1. Create the model by calling the function above\n",
    "2. Compile the model by calling `model.compile(optimizer = \"...\", loss = \"...\", metrics = [\"accuracy\"])`\n",
    "3. Train the model on train data by calling `model.fit(x = ..., y = ..., epochs = ..., batch_size = ...)`\n",
    "4. Test the model on test data by calling `model.evaluate(x = ..., y = ...)`\n",
    "\n",
    "If you want to know more about `model.compile()`, `model.fit()`, `model.evaluate()` and their arguments, refer to the official [Keras documentation](https://keras.io/models/model/).\n",
    "\n",
    "**Exercise**: Implement step 1, i.e. create the model."
   ]
  },
  {
   "cell_type": "code",
   "execution_count": 5,
   "metadata": {},
   "outputs": [
    {
     "name": "stdout",
     "output_type": "stream",
     "text": [
      "WARNING:tensorflow:From /Users/liuxuemin/anaconda3/lib/python3.7/site-packages/tensorflow_core/python/ops/resource_variable_ops.py:1630: calling BaseResourceVariable.__init__ (from tensorflow.python.ops.resource_variable_ops) with constraint is deprecated and will be removed in a future version.\n",
      "Instructions for updating:\n",
      "If using Keras pass *_constraint arguments to layers.\n",
      "WARNING:tensorflow:From /Users/liuxuemin/anaconda3/lib/python3.7/site-packages/keras/backend/tensorflow_backend.py:4070: The name tf.nn.max_pool is deprecated. Please use tf.nn.max_pool2d instead.\n",
      "\n"
     ]
    }
   ],
   "source": [
    "### START CODE HERE ### (1 line)\n",
    "happyModel = HappyModel((64,64,3))\n",
    "### END CODE HERE ###"
   ]
  },
  {
   "cell_type": "markdown",
   "metadata": {},
   "source": [
    "**Exercise**: Implement step 2, i.e. compile the model to configure the learning process. Choose the 3 arguments of `compile()` wisely. Hint: the Happy Challenge is a binary classification problem."
   ]
  },
  {
   "cell_type": "code",
   "execution_count": 6,
   "metadata": {},
   "outputs": [
    {
     "name": "stdout",
     "output_type": "stream",
     "text": [
      "WARNING:tensorflow:From /Users/liuxuemin/anaconda3/lib/python3.7/site-packages/tensorflow_core/python/ops/nn_impl.py:183: where (from tensorflow.python.ops.array_ops) is deprecated and will be removed in a future version.\n",
      "Instructions for updating:\n",
      "Use tf.where in 2.0, which has the same broadcast rule as np.where\n"
     ]
    }
   ],
   "source": [
    "### START CODE HERE ### (1 line)\n",
    "happyModel.compile(optimizer = \"adam\",loss = \"binary_crossentropy\",metrics = [\"accuracy\"])\n",
    "### END CODE HERE ###"
   ]
  },
  {
   "cell_type": "markdown",
   "metadata": {},
   "source": [
    "**Exercise**: Implement step 3, i.e. train the model. Choose the number of epochs and the batch size."
   ]
  },
  {
   "cell_type": "code",
   "execution_count": 7,
   "metadata": {},
   "outputs": [
    {
     "name": "stdout",
     "output_type": "stream",
     "text": [
      "WARNING:tensorflow:From /Users/liuxuemin/anaconda3/lib/python3.7/site-packages/keras/backend/tensorflow_backend.py:422: The name tf.global_variables is deprecated. Please use tf.compat.v1.global_variables instead.\n",
      "\n",
      "Epoch 1/40\n",
      "600/600 [==============================] - 1s 2ms/step - loss: 1.6668 - accuracy: 0.6583\n",
      "Epoch 2/40\n",
      "600/600 [==============================] - 1s 2ms/step - loss: 0.2701 - accuracy: 0.8950\n",
      "Epoch 3/40\n",
      "600/600 [==============================] - 1s 2ms/step - loss: 0.1577 - accuracy: 0.9400\n",
      "Epoch 4/40\n",
      "600/600 [==============================] - 1s 2ms/step - loss: 0.1237 - accuracy: 0.9567\n",
      "Epoch 5/40\n",
      "600/600 [==============================] - 1s 2ms/step - loss: 0.1226 - accuracy: 0.9583\n",
      "Epoch 6/40\n",
      "600/600 [==============================] - 1s 2ms/step - loss: 0.1127 - accuracy: 0.9600\n",
      "Epoch 7/40\n",
      "600/600 [==============================] - 1s 2ms/step - loss: 0.1187 - accuracy: 0.9517\n",
      "Epoch 8/40\n",
      "600/600 [==============================] - 1s 2ms/step - loss: 0.0977 - accuracy: 0.9633\n",
      "Epoch 9/40\n",
      "600/600 [==============================] - 1s 2ms/step - loss: 0.1866 - accuracy: 0.9200\n",
      "Epoch 10/40\n",
      "600/600 [==============================] - 1s 2ms/step - loss: 0.1785 - accuracy: 0.9450\n",
      "Epoch 11/40\n",
      "600/600 [==============================] - 1s 2ms/step - loss: 0.0774 - accuracy: 0.9750\n",
      "Epoch 12/40\n",
      "600/600 [==============================] - 1s 2ms/step - loss: 0.0582 - accuracy: 0.9783\n",
      "Epoch 13/40\n",
      "600/600 [==============================] - 1s 2ms/step - loss: 0.0590 - accuracy: 0.9800\n",
      "Epoch 14/40\n",
      "600/600 [==============================] - 1s 2ms/step - loss: 0.0513 - accuracy: 0.9800\n",
      "Epoch 15/40\n",
      "600/600 [==============================] - 1s 2ms/step - loss: 0.0710 - accuracy: 0.9767\n",
      "Epoch 16/40\n",
      "600/600 [==============================] - 1s 2ms/step - loss: 0.0892 - accuracy: 0.9700\n",
      "Epoch 17/40\n",
      "600/600 [==============================] - 1s 2ms/step - loss: 0.0562 - accuracy: 0.9900\n",
      "Epoch 18/40\n",
      "600/600 [==============================] - 1s 2ms/step - loss: 0.0453 - accuracy: 0.9833\n",
      "Epoch 19/40\n",
      "600/600 [==============================] - 1s 2ms/step - loss: 0.1258 - accuracy: 0.9600\n",
      "Epoch 20/40\n",
      "600/600 [==============================] - 1s 2ms/step - loss: 0.0616 - accuracy: 0.9833\n",
      "Epoch 21/40\n",
      "600/600 [==============================] - 1s 2ms/step - loss: 0.1370 - accuracy: 0.9550\n",
      "Epoch 22/40\n",
      "600/600 [==============================] - 1s 2ms/step - loss: 0.1509 - accuracy: 0.9533\n",
      "Epoch 23/40\n",
      "600/600 [==============================] - 1s 2ms/step - loss: 0.0554 - accuracy: 0.9833\n",
      "Epoch 24/40\n",
      "600/600 [==============================] - 1s 2ms/step - loss: 0.0510 - accuracy: 0.9900\n",
      "Epoch 25/40\n",
      "600/600 [==============================] - 1s 2ms/step - loss: 0.0413 - accuracy: 0.9883\n",
      "Epoch 26/40\n",
      "600/600 [==============================] - 1s 2ms/step - loss: 0.0619 - accuracy: 0.9750\n",
      "Epoch 27/40\n",
      "600/600 [==============================] - 1s 2ms/step - loss: 0.0587 - accuracy: 0.9800\n",
      "Epoch 28/40\n",
      "600/600 [==============================] - 1s 2ms/step - loss: 0.0314 - accuracy: 0.9867\n",
      "Epoch 29/40\n",
      "600/600 [==============================] - 1s 2ms/step - loss: 0.0298 - accuracy: 0.9883\n",
      "Epoch 30/40\n",
      "600/600 [==============================] - 1s 2ms/step - loss: 0.0268 - accuracy: 0.9883\n",
      "Epoch 31/40\n",
      "600/600 [==============================] - 1s 2ms/step - loss: 0.0492 - accuracy: 0.9783\n",
      "Epoch 32/40\n",
      "600/600 [==============================] - 1s 2ms/step - loss: 0.0394 - accuracy: 0.9817\n",
      "Epoch 33/40\n",
      "600/600 [==============================] - 1s 2ms/step - loss: 0.0619 - accuracy: 0.9750\n",
      "Epoch 34/40\n",
      "600/600 [==============================] - 1s 2ms/step - loss: 0.0907 - accuracy: 0.9867\n",
      "Epoch 35/40\n",
      "600/600 [==============================] - 1s 2ms/step - loss: 0.0282 - accuracy: 0.9900\n",
      "Epoch 36/40\n",
      "600/600 [==============================] - 1s 2ms/step - loss: 0.0448 - accuracy: 0.9883\n",
      "Epoch 37/40\n",
      "600/600 [==============================] - 1s 2ms/step - loss: 0.0951 - accuracy: 0.9667\n",
      "Epoch 38/40\n",
      "600/600 [==============================] - 1s 2ms/step - loss: 0.0191 - accuracy: 0.9950\n",
      "Epoch 39/40\n",
      "600/600 [==============================] - 1s 2ms/step - loss: 0.0298 - accuracy: 0.9950\n",
      "Epoch 40/40\n",
      "600/600 [==============================] - 1s 2ms/step - loss: 0.0220 - accuracy: 0.9917\n"
     ]
    },
    {
     "data": {
      "text/plain": [
       "<keras.callbacks.callbacks.History at 0x7fd0c90a0650>"
      ]
     },
     "execution_count": 7,
     "metadata": {},
     "output_type": "execute_result"
    }
   ],
   "source": [
    "### START CODE HERE ### (1 line)\n",
    "happyModel.fit(x = X_train,y = Y_train,epochs =40 ,batch_size = 16 )\n",
    "### END CODE HERE ###"
   ]
  },
  {
   "cell_type": "markdown",
   "metadata": {},
   "source": [
    "Note that if you run `fit()` again, the `model` will continue to train with the parameters it has already learnt instead of reinitializing them.\n",
    "\n",
    "**Exercise**: Implement step 4, i.e. test/evaluate the model."
   ]
  },
  {
   "cell_type": "code",
   "execution_count": 8,
   "metadata": {
    "scrolled": true
   },
   "outputs": [
    {
     "name": "stdout",
     "output_type": "stream",
     "text": [
      "150/150 [==============================] - 0s 897us/step\n",
      "\n",
      "Loss = 0.5974315786361695\n",
      "Test Accuracy = 0.8333333134651184\n"
     ]
    }
   ],
   "source": [
    "### START CODE HERE ### (1 line)\n",
    "preds = happyModel.evaluate(x = X_test,y = Y_test)\n",
    "### END CODE HERE ###\n",
    "print()\n",
    "print (\"Loss = \" + str(preds[0]))\n",
    "print (\"Test Accuracy = \" + str(preds[1]))"
   ]
  },
  {
   "cell_type": "markdown",
   "metadata": {},
   "source": [
    "If your `happyModel()` function worked, you should have observed much better than random-guessing (50%) accuracy on the train and test sets.\n",
    "\n",
    "To give you a point of comparison, our model gets around **95% test accuracy in 40 epochs** (and 99% train accuracy) with a mini batch size of 16 and \"adam\" optimizer. But our model gets decent accuracy after just 2-5 epochs, so if you're comparing different models you can also train a variety of models on just a few epochs and see how they compare. \n",
    "\n",
    "If you have not yet achieved a very good accuracy (let's say more than 80%), here're some things you can play around with to try to achieve it:\n",
    "\n",
    "- Try using blocks of CONV->BATCHNORM->RELU such as:\n",
    "```python\n",
    "X = Conv2D(32, (3, 3), strides = (1, 1), name = 'conv0')(X)\n",
    "X = BatchNormalization(axis = 3, name = 'bn0')(X)\n",
    "X = Activation('relu')(X)\n",
    "```\n",
    "until your height and width dimensions are quite low and your number of channels quite large (≈32 for example). You are encoding useful information in a volume with a lot of channels. You can then flatten the volume and use a fully-connected layer.\n",
    "- You can use MAXPOOL after such blocks. It will help you lower the dimension in height and width.\n",
    "- Change your optimizer. We find Adam works well. \n",
    "- If the model is struggling to run and you get memory issues, lower your batch_size (12 is usually a good compromise)\n",
    "- Run on more epochs, until you see the train accuracy plateauing. \n",
    "\n",
    "Even if you have achieved a good accuracy, please feel free to keep playing with your model to try to get even better results. \n",
    "\n",
    "**Note**: If you perform hyperparameter tuning on your model, the test set actually becomes a dev set, and your model might end up overfitting to the test (dev) set. But just for the purpose of this assignment, we won't worry about that here.\n"
   ]
  },
  {
   "cell_type": "markdown",
   "metadata": {},
   "source": [
    "## 3 - Conclusion\n",
    "\n",
    "Congratulations, you have solved the Happy House challenge! \n",
    "\n",
    "Now, you just need to link this model to the front-door camera of your house. We unfortunately won't go into the details of how to do that here. "
   ]
  },
  {
   "cell_type": "markdown",
   "metadata": {},
   "source": [
    "<font color='blue'>\n",
    "**What we would like you to remember from this assignment:**\n",
    "- Keras is a tool we recommend for rapid prototyping. It allows you to quickly try out different model architectures. Are there any applications of deep learning to your daily life that you'd like to implement using Keras? \n",
    "- Remember how to code a model in Keras and the four steps leading to the evaluation of your model on the test set. Create->Compile->Fit/Train->Evaluate/Test."
   ]
  },
  {
   "cell_type": "markdown",
   "metadata": {},
   "source": [
    "## 4 - Test with your own image (Optional)\n",
    "\n",
    "Congratulations on finishing this assignment. You can now take a picture of your face and see if you could enter the Happy House. To do that:\n",
    "    1. Click on \"File\" in the upper bar of this notebook, then click \"Open\" to go on your Coursera Hub.\n",
    "    2. Add your image to this Jupyter Notebook's directory, in the \"images\" folder\n",
    "    3. Write your image's name in the following code\n",
    "    4. Run the code and check if the algorithm is right (0 is unhappy, 1 is happy)!\n",
    "    \n",
    "The training/test sets were quite similar; for example, all the pictures were taken against the same background (since a front door camera is always mounted in the same position). This makes the problem easier, but a model trained on this data may or may not work on your own data. But feel free to give it a try! "
   ]
  },
  {
   "cell_type": "code",
   "execution_count": 9,
   "metadata": {},
   "outputs": [
    {
     "name": "stdout",
     "output_type": "stream",
     "text": [
      "[[1.]]\n"
     ]
    },
    {
     "data": {
      "image/png": "[encoded data removed]",
      "text/plain": [
       "<Figure size 432x288 with 1 Axes>"
      ]
     },
     "metadata": {
      "needs_background": "light"
     },
     "output_type": "display_data"
    }
   ],
   "source": [
    "### START CODE HERE ###\n",
    "img_path = 'images/JJLin1.jpg'\n",
    "### END CODE HERE ###\n",
    "img = image.load_img(img_path, target_size=(64, 64))\n",
    "imshow(img)\n",
    "\n",
    "x = image.img_to_array(img)\n",
    "x = np.expand_dims(x, axis=0)\n",
    "x = preprocess_input(x)\n",
    "\n",
    "print(happyModel.predict(x))"
   ]
  },
  {
   "cell_type": "markdown",
   "metadata": {},
   "source": [
    "## 5 - Other useful functions in Keras (Optional)\n",
    "\n",
    "Two other basic features of Keras that you'll find useful are:\n",
    "- `model.summary()`: prints the details of your layers in a table with the sizes of its inputs/outputs\n",
    "- `plot_model()`: plots your graph in a nice layout. You can even save it as \".png\" using SVG() if you'd like to share it on social media ;). It is saved in \"File\" then \"Open...\" in the upper bar of the notebook.\n",
    "\n",
    "Run the following code."
   ]
  },
  {
   "cell_type": "code",
   "execution_count": 10,
   "metadata": {
    "scrolled": false
   },
   "outputs": [
    {
     "name": "stdout",
     "output_type": "stream",
     "text": [
      "Model: \"HappyModel\"\n",
      "_________________________________________________________________\n",
      "Layer (type)                 Output Shape              Param #   \n",
      "=================================================================\n",
      "input_1 (InputLayer)         (None, 64, 64, 3)         0         \n",
      "_________________________________________________________________\n",
      "zero_padding2d_1 (ZeroPaddin (None, 70, 70, 3)         0         \n",
      "_________________________________________________________________\n",
      "conv0 (Conv2D)               (None, 64, 64, 32)        4736      \n",
      "_________________________________________________________________\n",
      "bn0 (BatchNormalization)     (None, 64, 64, 32)        128       \n",
      "_________________________________________________________________\n",
      "activation_1 (Activation)    (None, 64, 64, 32)        0         \n",
      "_________________________________________________________________\n",
      "max_pool (MaxPooling2D)      (None, 32, 32, 32)        0         \n",
      "_________________________________________________________________\n",
      "flatten_1 (Flatten)          (None, 32768)             0         \n",
      "_________________________________________________________________\n",
      "fc (Dense)                   (None, 1)                 32769     \n",
      "=================================================================\n",
      "Total params: 37,633\n",
      "Trainable params: 37,569\n",
      "Non-trainable params: 64\n",
      "_________________________________________________________________\n"
     ]
    }
   ],
   "source": [
    "happyModel.summary()"
   ]
  },
  {
   "cell_type": "code",
   "execution_count": 11,
   "metadata": {},
   "outputs": [
    {
     "data": {
      "image/svg+xml": [
       "<svg height=\"741pt\" viewBox=\"0.00 0.00 225.01 556.00\" width=\"300pt\" xmlns=\"http://www.w3.org/2000/svg\" xmlns:xlink=\"http://www.w3.org/1999/xlink\">\n",
       "<g class=\"graph\" id=\"graph0\" transform=\"scale(0.75 0.75) rotate(0) translate(4 552)\">\n",
       "<title>G</title>\n",
       "<polygon fill=\"white\" points=\"-4,4 -4,-552 221.01,-552 221.01,4 -4,4\" stroke=\"transparent\"/>\n",
       "<!-- 140533643722704 -->\n",
       "<g class=\"node\" id=\"node1\">\n",
       "<title>140533643722704</title>\n",
       "<polygon fill=\"none\" points=\"44.32,-511.5 44.32,-547.5 172.69,-547.5 172.69,-511.5 44.32,-511.5\" stroke=\"black\"/>\n",
       "<text font-family=\"Times,serif\" font-size=\"14.00\" text-anchor=\"middle\" x=\"108.51\" y=\"-525.3\">input_1: InputLayer</text>\n",
       "</g>\n",
       "<!-- 140532551275856 -->\n",
       "<g class=\"node\" id=\"node2\">\n",
       "<title>140532551275856</title>\n",
       "<polygon fill=\"none\" points=\"0,-438.5 0,-474.5 217.01,-474.5 217.01,-438.5 0,-438.5\" stroke=\"black\"/>\n",
       "<text font-family=\"Times,serif\" font-size=\"14.00\" text-anchor=\"middle\" x=\"108.51\" y=\"-452.3\">zero_padding2d_1: ZeroPadding2D</text>\n",
       "</g>\n",
       "<!-- 140533643722704&#45;&gt;140532551275856 -->\n",
       "<g class=\"edge\" id=\"edge1\">\n",
       "<title>140533643722704-&gt;140532551275856</title>\n",
       "<path d=\"M108.51,-511.31C108.51,-503.29 108.51,-493.55 108.51,-484.57\" fill=\"none\" stroke=\"black\"/>\n",
       "<polygon fill=\"black\" points=\"112.01,-484.53 108.51,-474.53 105.01,-484.53 112.01,-484.53\" stroke=\"black\"/>\n",
       "</g>\n",
       "<!-- 140533642279184 -->\n",
       "<g class=\"node\" id=\"node3\">\n",
       "<title>140533642279184</title>\n",
       "<polygon fill=\"none\" points=\"55.98,-365.5 55.98,-401.5 161.03,-401.5 161.03,-365.5 55.98,-365.5\" stroke=\"black\"/>\n",
       "<text font-family=\"Times,serif\" font-size=\"14.00\" text-anchor=\"middle\" x=\"108.51\" y=\"-379.3\">conv0: Conv2D</text>\n",
       "</g>\n",
       "<!-- 140532551275856&#45;&gt;140533642279184 -->\n",
       "<g class=\"edge\" id=\"edge2\">\n",
       "<title>140532551275856-&gt;140533642279184</title>\n",
       "<path d=\"M108.51,-438.31C108.51,-430.29 108.51,-420.55 108.51,-411.57\" fill=\"none\" stroke=\"black\"/>\n",
       "<polygon fill=\"black\" points=\"112.01,-411.53 108.51,-401.53 105.01,-411.53 112.01,-411.53\" stroke=\"black\"/>\n",
       "</g>\n",
       "<!-- 140533616024336 -->\n",
       "<g class=\"node\" id=\"node4\">\n",
       "<title>140533616024336</title>\n",
       "<polygon fill=\"none\" points=\"29.55,-292.5 29.55,-328.5 187.46,-328.5 187.46,-292.5 29.55,-292.5\" stroke=\"black\"/>\n",
       "<text font-family=\"Times,serif\" font-size=\"14.00\" text-anchor=\"middle\" x=\"108.51\" y=\"-306.3\">bn0: BatchNormalization</text>\n",
       "</g>\n",
       "<!-- 140533642279184&#45;&gt;140533616024336 -->\n",
       "<g class=\"edge\" id=\"edge3\">\n",
       "<title>140533642279184-&gt;140533616024336</title>\n",
       "<path d=\"M108.51,-365.31C108.51,-357.29 108.51,-347.55 108.51,-338.57\" fill=\"none\" stroke=\"black\"/>\n",
       "<polygon fill=\"black\" points=\"112.01,-338.53 108.51,-328.53 105.01,-338.53 112.01,-338.53\" stroke=\"black\"/>\n",
       "</g>\n",
       "<!-- 140533616023760 -->\n",
       "<g class=\"node\" id=\"node5\">\n",
       "<title>140533616023760</title>\n",
       "<polygon fill=\"none\" points=\"33.04,-219.5 33.04,-255.5 183.97,-255.5 183.97,-219.5 33.04,-219.5\" stroke=\"black\"/>\n",
       "<text font-family=\"Times,serif\" font-size=\"14.00\" text-anchor=\"middle\" x=\"108.51\" y=\"-233.3\">activation_1: Activation</text>\n",
       "</g>\n",
       "<!-- 140533616024336&#45;&gt;140533616023760 -->\n",
       "<g class=\"edge\" id=\"edge4\">\n",
       "<title>140533616024336-&gt;140533616023760</title>\n",
       "<path d=\"M108.51,-292.31C108.51,-284.29 108.51,-274.55 108.51,-265.57\" fill=\"none\" stroke=\"black\"/>\n",
       "<polygon fill=\"black\" points=\"112.01,-265.53 108.51,-255.53 105.01,-265.53 112.01,-265.53\" stroke=\"black\"/>\n",
       "</g>\n",
       "<!-- 140533643298960 -->\n",
       "<g class=\"node\" id=\"node6\">\n",
       "<title>140533643298960</title>\n",
       "<polygon fill=\"none\" points=\"25.65,-146.5 25.65,-182.5 191.37,-182.5 191.37,-146.5 25.65,-146.5\" stroke=\"black\"/>\n",
       "<text font-family=\"Times,serif\" font-size=\"14.00\" text-anchor=\"middle\" x=\"108.51\" y=\"-160.3\">max_pool: MaxPooling2D</text>\n",
       "</g>\n",
       "<!-- 140533616023760&#45;&gt;140533643298960 -->\n",
       "<g class=\"edge\" id=\"edge5\">\n",
       "<title>140533616023760-&gt;140533643298960</title>\n",
       "<path d=\"M108.51,-219.31C108.51,-211.29 108.51,-201.55 108.51,-192.57\" fill=\"none\" stroke=\"black\"/>\n",
       "<polygon fill=\"black\" points=\"112.01,-192.53 108.51,-182.53 105.01,-192.53 112.01,-192.53\" stroke=\"black\"/>\n",
       "</g>\n",
       "<!-- 140533641409424 -->\n",
       "<g class=\"node\" id=\"node7\">\n",
       "<title>140533641409424</title>\n",
       "<polygon fill=\"none\" points=\"52.87,-73.5 52.87,-109.5 164.14,-109.5 164.14,-73.5 52.87,-73.5\" stroke=\"black\"/>\n",
       "<text font-family=\"Times,serif\" font-size=\"14.00\" text-anchor=\"middle\" x=\"108.51\" y=\"-87.3\">flatten_1: Flatten</text>\n",
       "</g>\n",
       "<!-- 140533643298960&#45;&gt;140533641409424 -->\n",
       "<g class=\"edge\" id=\"edge6\">\n",
       "<title>140533643298960-&gt;140533641409424</title>\n",
       "<path d=\"M108.51,-146.31C108.51,-138.29 108.51,-128.55 108.51,-119.57\" fill=\"none\" stroke=\"black\"/>\n",
       "<polygon fill=\"black\" points=\"112.01,-119.53 108.51,-109.53 105.01,-119.53 112.01,-119.53\" stroke=\"black\"/>\n",
       "</g>\n",
       "<!-- 140533641435408 -->\n",
       "<g class=\"node\" id=\"node8\">\n",
       "<title>140533641435408</title>\n",
       "<polygon fill=\"none\" points=\"73.88,-0.5 73.88,-36.5 143.13,-36.5 143.13,-0.5 73.88,-0.5\" stroke=\"black\"/>\n",
       "<text font-family=\"Times,serif\" font-size=\"14.00\" text-anchor=\"middle\" x=\"108.51\" y=\"-14.3\">fc: Dense</text>\n",
       "</g>\n",
       "<!-- 140533641409424&#45;&gt;140533641435408 -->\n",
       "<g class=\"edge\" id=\"edge7\">\n",
       "<title>140533641409424-&gt;140533641435408</title>\n",
       "<path d=\"M108.51,-73.31C108.51,-65.29 108.51,-55.55 108.51,-46.57\" fill=\"none\" stroke=\"black\"/>\n",
       "<polygon fill=\"black\" points=\"112.01,-46.53 108.51,-36.53 105.01,-46.53 112.01,-46.53\" stroke=\"black\"/>\n",
       "</g>\n",
       "</g>\n",
       "</svg>"
      ],
      "text/plain": [
       "<IPython.core.display.SVG object>"
      ]
     },
     "execution_count": 11,
     "metadata": {},
     "output_type": "execute_result"
    }
   ],
   "source": [
    "plot_model(happyModel, to_file='HappyModel.png')\n",
    "SVG(model_to_dot(happyModel).create(prog='dot', format='svg'))"
   ]
  },
  {
   "cell_type": "code",
   "execution_count": null,
   "metadata": {},
   "outputs": [],
   "source": []
  }
 ],
 "metadata": {
  "kernelspec": {
   "display_name": "Python 3",
   "language": "python",
   "name": "python3"
  },
  "language_info": {
   "codemirror_mode": {
    "name": "ipython",
    "version": 3
   },
   "file_extension": ".py",
   "mimetype": "text/x-python",
   "name": "python",
   "nbconvert_exporter": "python",
   "pygments_lexer": "ipython3",
   "version": "3.7.6"
  }
 },
 "nbformat": 4,
 "nbformat_minor": 2
}
